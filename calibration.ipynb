{
 "cells": [
  {
   "attachments": {},
   "cell_type": "markdown",
   "id": "7229fd1d",
   "metadata": {},
   "source": [
    "    HOT WIRE ANEMOMETER CALIBRATION v.3\n",
    "    LEA - Wind Tunnel\n",
    "    python version\n",
    "\n",
    "Developer: Rafael C. F. Mendes\n",
    "\n",
    "Date:29/06/2023   (v1: 24/11/2016)\n",
    "\n",
    "Description: Use this program to move hot wire probe and taking data from CTA module.\n",
    "             \n",
    "Hardware: \n",
    "   - Arduino Uno (probe positioning system) with GRBL library (see more at https://github.com/grbl/grbl)\n",
    "   - National Instrument - USB-4332 **Warning: Working voltage -10 to 10V**                 \n",
    "   - Hot wire anemometer - miniCTA DANTEC\n",
    "\n",
    "Before run it, install the following libraries:\n",
    "\n",
    "    - pip install nidaqmx\n",
    "    - pip install pyserial"
   ]
  },
  {
   "cell_type": "code",
   "execution_count": 19,
   "id": "e1ebfda1-f4ce-4af4-b0a7-a5ebf9a8d4ae",
   "metadata": {},
   "outputs": [
    {
     "data": {
      "text/plain": [
       "'\"\"\\nwith nidaqmx.Task() as master_task:\\n    master = master_task.ai_channels.add_ai_voltage_chan(\"Dev1/ai0\")\\n    master_task.timing.cfg_samp_clk_timing(SampleRate, source=\\'\\', active_edge=Edge.RISING, sample_mode=AcquisitionType.CONTINUOUS)\\n    master_task.stop()\\n\\n    master_data = master_task.read(AquisitionTimeInSeconds)\\n'"
      ]
     },
     "execution_count": 19,
     "metadata": {},
     "output_type": "execute_result"
    }
   ],
   "source": [
    "import nidaqmx          #pip install nidaqmx\n",
    "import time\n",
    "import numpy as np\n",
    "import serial           #pip install pyserial\n",
    "from datetime import datetime\n",
    "\n",
    "from nidaqmx.constants import LineGrouping\n",
    "from nidaqmx.constants import Edge\n",
    "from nidaqmx.constants import AcquisitionType \n",
    "\n",
    "def acquire_data(SampleRate, Sample):\n",
    "    with nidaqmx.Task() as master_task:\n",
    "        master = master_task.ai_channels.add_ai_voltage_chan(\"Dev1/ai0\")\n",
    "        master_task.timing.cfg_samp_clk_timing(SampleRate, source='', active_edge=Edge.RISING, sample_mode=AcquisitionType.CONTINUOUS)\n",
    "        master_task.stop()\n",
    "\n",
    "        master_data = master_task.read(Sample)\n",
    "    \n",
    "    return master_data\n",
    "\n",
    "\n",
    "SampleRate=1000\n",
    "AquisitionTimeInSeconds=10\n",
    "Sample=SampleRate*AquisitionTimeInSeconds\n",
    "\n",
    "data=acquire_data(SampleRate, Sample)\n",
    "print(data)\n",
    "\"\"\"\"\"\n",
    "with nidaqmx.Task() as master_task:\n",
    "    master = master_task.ai_channels.add_ai_voltage_chan(\"Dev1/ai0\")\n",
    "    master_task.timing.cfg_samp_clk_timing(SampleRate, source='', active_edge=Edge.RISING, sample_mode=AcquisitionType.CONTINUOUS)\n",
    "    master_task.stop()\n",
    "\n",
    "    master_data = master_task.read(AquisitionTimeInSeconds)\n",
    "\"\"\"\"\"\n"
   ]
  },
  {
   "cell_type": "code",
   "execution_count": null,
   "id": "99618d81",
   "metadata": {},
   "outputs": [],
   "source": [
    "s = serial.Serial('COM4', baudrate=9600)  # Serial port for Arduino UNO\n",
    "s.open()\n",
    "time.sleep(0.2)\n",
    "s.write(b'x-400 y-330')\n",
    "s.close()\n"
   ]
  },
  {
   "attachments": {},
   "cell_type": "markdown",
   "id": "747d5315",
   "metadata": {},
   "source": []
  },
  {
   "cell_type": "code",
   "execution_count": null,
   "id": "4ccfe088-f887-43a8-8c3c-1d0b028987ca",
   "metadata": {},
   "outputs": [
    {
     "data": {
      "text/plain": [
       "9000"
      ]
     },
     "execution_count": 393,
     "metadata": {},
     "output_type": "execute_result"
    }
   ],
   "source": [
    "len(master_data)"
   ]
  },
  {
   "cell_type": "code",
   "execution_count": 20,
   "id": "68a49654",
   "metadata": {},
   "outputs": [],
   "source": [
    "\n",
    "\n",
    "now = datetime.now()\n",
    "date_string = now.strftime('%d-%b-%Y')\n",
    "time_string = now.strftime('%H-%M-%S')\n",
    "filename = f\"calibration/{date_string}_{time_string}.txt\"\n",
    "\n",
    "\n",
    "\n"
   ]
  },
  {
   "attachments": {},
   "cell_type": "markdown",
   "id": "13e026d5",
   "metadata": {},
   "source": [
    "# See after the input function"
   ]
  },
  {
   "cell_type": "code",
   "execution_count": 23,
   "id": "d18930f6",
   "metadata": {},
   "outputs": [],
   "source": [
    "i = 1\n",
    "datap = 0\n",
    "press = []\n",
    "Usig = []\n",
    "\n",
    "while datap >= 0:\n",
    "    x = input('mmh2o: ')  \n",
    "    datap = float(x)\n",
    "\n",
    "    if datap >= 0:\n",
    "        press.append(datap)\n",
    "        data = acquire_data(SampleRate, Sample)\n",
    "        Usig.append(np.mean(data))\n",
    "        # Tsig(i) = np.mean(data[:, 2])  # Uncomment this line if needed\n",
    "\n",
    "    i += 1\n",
    "    if datap < 0:\n",
    "        break\n",
    "    \n",
    "n = i - 1\n"
   ]
  },
  {
   "cell_type": "code",
   "execution_count": null,
   "id": "00a4ae60",
   "metadata": {},
   "outputs": [],
   "source": [
    "\n",
    "Ec = 1  # sqrt((Twire-Treff)./(Twire-Temp))\n",
    "Usig_c = Ec * Usig\n",
    "U = np.sqrt(2 * 9.81 * 998 * np.array(press) / 1000 / 1.02)\n",
    "\n",
    "fitresult, gof = createFit_king_law(Usig_c, U)\n",
    "fitresult4, gof4 = createFit4(Usig_c, U)\n",
    "\n",
    "coef_values = fitresult.params.values()\n",
    "coef_values4 = fitresult4.params.values()\n",
    "\n",
    "with open(filename, 'wt') as fid:\n",
    "    fid.write('Coefficients kings law\\t')\n",
    "    fid.write('U(x) = (x^2/b-a)^(1/0.25)\\n')\n",
    "    fid.write('a \\t b\\n')\n",
    "    fid.write(f'{coef_values[0]:12.4f} \\t {coef_values[1]:12.4f}\\n')\n",
    "\n",
    "    fid.write('\\nCoefficients poly4\\t')\n",
    "    fid.write('U(x) = p1*x^4 + p2*x^3 + p3*x^2 + p4*x + p5\\n')\n",
    "    fid.write('p1\\t p2\\t p3\\t p4\\t p5\\n')\n",
    "    fid.write(f'{coef_values4[0]:12.4f} \\t {coef_values4[1]:12.4f} \\t {coef_values4[2]:12.4f} \\t {coef_values4[3]:12.4f} \\t {coef_values4[4]:12.4f}\\n')\n",
    "\n",
    "    fid.write('\\nSignal \\t Pressure \\t Velocity\\n')\n",
    "    for i in range(n-1):\n",
    "        fid.write(f'{Usig_c[i]:12.8f} \\t {press[i]:12.8f} \\t {U[i]:12.8f}\\n')\n"
   ]
  },
  {
   "cell_type": "code",
   "execution_count": null,
   "id": "e1d4311f",
   "metadata": {},
   "outputs": [],
   "source": [
    "s.open()\n",
    "time.sleep(0.2)\n",
    "s.write(b'$H')\n",
    "s.close()\n"
   ]
  }
 ],
 "metadata": {
  "kernelspec": {
   "display_name": "Python 3 (ipykernel)",
   "language": "python",
   "name": "python3"
  },
  "language_info": {
   "codemirror_mode": {
    "name": "ipython",
    "version": 3
   },
   "file_extension": ".py",
   "mimetype": "text/x-python",
   "name": "python",
   "nbconvert_exporter": "python",
   "pygments_lexer": "ipython3",
   "version": "3.10.11"
  }
 },
 "nbformat": 4,
 "nbformat_minor": 5
}
