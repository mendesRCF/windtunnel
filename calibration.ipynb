{
 "cells": [
  {
   "attachments": {},
   "cell_type": "markdown",
   "id": "7229fd1d",
   "metadata": {},
   "source": [
    "    HOT WIRE ANEMOMETER CALIBRATION v.3\n",
    "    LEA - Wind Tunnel\n",
    "    python version\n",
    "\n",
    "Developer: Rafael C. F. Mendes\n",
    "\n",
    "Date:29/06/2023   (v1: 24/11/2016)\n",
    "\n",
    "Description: Use this program to move hot wire probe and taking data from CTA module.\n",
    "             \n",
    "Hardware: \n",
    "   - Arduino Uno (probe positioning system) with GRBL library (see more at https://github.com/grbl/grbl)\n",
    "   - National Instrument - USB-4332 **Warning: Working voltage -10 to 10V**                 \n",
    "   - Hot wire anemometer - miniCTA DANTEC\n",
    "\n",
    "Before run it, install the following libraries:\n",
    "\n",
    "    - pip install nidaqmx\n",
    "    - pip install pyserial"
   ]
  },
  {
   "cell_type": "code",
   "execution_count": 93,
   "id": "e1ebfda1-f4ce-4af4-b0a7-a5ebf9a8d4ae",
   "metadata": {},
   "outputs": [],
   "source": [
    "#libraries\n",
    "\n",
    "import nidaqmx          \n",
    "import time\n",
    "import numpy as np\n",
    "import serial           \n",
    "from datetime import datetime\n",
    "from nidaqmx.constants import LineGrouping\n",
    "from nidaqmx.constants import Edge\n",
    "from nidaqmx.constants import AcquisitionType \n",
    "import os\n",
    "from scipy.optimize import curve_fit\n"
   ]
  },
  {
   "cell_type": "code",
   "execution_count": 94,
   "id": "76419aa4",
   "metadata": {},
   "outputs": [],
   "source": [
    "#Definitions\n",
    "SampleRate=1000\n",
    "AquisitionTimeInSeconds=5\n",
    "\n",
    "# Define the serial port and baud rate\n",
    "port = 'COM7'  # Update with your Arduino's port\n",
    "baud_rate = 115200"
   ]
  },
  {
   "cell_type": "code",
   "execution_count": 95,
   "id": "808c29bb",
   "metadata": {},
   "outputs": [],
   "source": [
    "# Function to call NI system \n",
    "\n",
    "def acquire_data(SampleRate, AquisitionTimeInSeconds):\n",
    "    with nidaqmx.Task() as master_task:\n",
    "        Sample=SampleRate*AquisitionTimeInSeconds\n",
    "        master = master_task.ai_channels.add_ai_voltage_chan(\"Dev1/ai0\")\n",
    "        master_task.timing.cfg_samp_clk_timing(SampleRate, source='', active_edge=Edge.RISING, sample_mode=AcquisitionType.CONTINUOUS)\n",
    "        master_task.stop()\n",
    "        master_data = master_task.read(Sample, timeout=AquisitionTimeInSeconds+1.0)\n",
    "    return master_data\n"
   ]
  },
  {
   "cell_type": "code",
   "execution_count": 96,
   "id": "992c29a4",
   "metadata": {},
   "outputs": [
    {
     "name": "stdout",
     "output_type": "stream",
     "text": [
      "Serial port COM7 is open. Ready to communicate.\n",
      "Response from Arduino: Grbl 1.1f ['$' for help]\n",
      "Response from Arduino: [MSG:'$H'|'$X' to unlock]\n"
     ]
    },
    {
     "data": {
      "text/plain": [
       "4"
      ]
     },
     "execution_count": 96,
     "metadata": {},
     "output_type": "execute_result"
    }
   ],
   "source": [
    "# Create a serial object\n",
    "ser = serial.Serial(port, baud_rate)\n",
    "\n",
    "# Check if the serial port is open\n",
    "if ser.is_open:\n",
    "    print(f\"Serial port {port} is open. Ready to communicate.\")\n",
    "\n",
    "ser.reset_input_buffer()\n",
    "ser.reset_output_buffer()\n",
    "ser.readline()\n",
    "\n",
    "# Read data from Arduino\n",
    "response = ser.readline().decode().strip()  # Read the response from Arduino\n",
    "print(\"Response from Arduino:\", response)\n",
    "\n",
    "# Read data from Arduino\n",
    "response = ser.readline().decode().strip()  # Read the response from Arduino\n",
    "print(\"Response from Arduino:\", response)\n",
    "\n",
    "# Close the serial port\n",
    "#ser.close()\n",
    "\n",
    "# Send a command to Arduino\n",
    "command = '$H\\r\\n'  # Example command\n",
    "ser.write(command.encode())  # Encode the command and send it\n",
    "\n"
   ]
  },
  {
   "cell_type": "code",
   "execution_count": 97,
   "id": "7336f271",
   "metadata": {},
   "outputs": [
    {
     "name": "stdout",
     "output_type": "stream",
     "text": [
      "Response from Arduino: ok\n"
     ]
    }
   ],
   "source": [
    "command = 'x-400 y-600\\r\\n'  # Example command\n",
    "ser.write(command.encode())  # Encode the command and send it\n",
    "\n",
    "response = ser.readline().decode().strip()  # Read the response from Arduino\n",
    "print(\"Response from Arduino:\", response)\n",
    "\n",
    "\n",
    "\n"
   ]
  },
  {
   "attachments": {},
   "cell_type": "markdown",
   "id": "747d5315",
   "metadata": {},
   "source": []
  },
  {
   "cell_type": "code",
   "execution_count": 98,
   "id": "64861f9b",
   "metadata": {},
   "outputs": [
    {
     "name": "stdout",
     "output_type": "stream",
     "text": [
      "Response from Arduino: ok\n"
     ]
    }
   ],
   "source": [
    "command = 'z-100\\r\\n'  # Example command\n",
    "ser.write(command.encode())  # Encode the command and send it\n",
    "\n",
    "response = ser.readline().decode().strip()  # Read the response from Arduino\n",
    "print(\"Response from Arduino:\", response)\n",
    "ser.close()\n"
   ]
  },
  {
   "cell_type": "code",
   "execution_count": 99,
   "id": "68a49654",
   "metadata": {},
   "outputs": [],
   "source": [
    "\n",
    "folder_name = \"calibration\"\n",
    "\n",
    "if not os.path.exists(folder_name):\n",
    "    # Create the folder\n",
    "    os.mkdir(folder_name)\n",
    "\n",
    "now = datetime.now()\n",
    "date_string = now.strftime('%d-%b-%Y')\n",
    "time_string = now.strftime('%H-%M-%S')\n",
    "\n",
    "filename = os.path.join(folder_name,f\"{date_string}_{time_string}.txt\")\n"
   ]
  },
  {
   "attachments": {},
   "cell_type": "markdown",
   "id": "13e026d5",
   "metadata": {},
   "source": [
    "# See after the input function"
   ]
  },
  {
   "cell_type": "code",
   "execution_count": 100,
   "id": "d18930f6",
   "metadata": {},
   "outputs": [
    {
     "ename": "ValueError",
     "evalue": "could not convert string to float: ''",
     "output_type": "error",
     "traceback": [
      "\u001b[1;31m---------------------------------------------------------------------------\u001b[0m",
      "\u001b[1;31mValueError\u001b[0m                                Traceback (most recent call last)",
      "Cell \u001b[1;32mIn[100], line 8\u001b[0m\n\u001b[0;32m      6\u001b[0m \u001b[39mwhile\u001b[39;00m datap \u001b[39m>\u001b[39m\u001b[39m=\u001b[39m \u001b[39m0\u001b[39m:\n\u001b[0;32m      7\u001b[0m     x \u001b[39m=\u001b[39m \u001b[39minput\u001b[39m(\u001b[39m'\u001b[39m\u001b[39mmmh2o: \u001b[39m\u001b[39m'\u001b[39m)  \n\u001b[1;32m----> 8\u001b[0m     datap \u001b[39m=\u001b[39m \u001b[39mfloat\u001b[39;49m(x)\n\u001b[0;32m     10\u001b[0m     \u001b[39mif\u001b[39;00m datap \u001b[39m>\u001b[39m\u001b[39m=\u001b[39m \u001b[39m0\u001b[39m:\n\u001b[0;32m     11\u001b[0m         press\u001b[39m.\u001b[39mappend(datap)\n",
      "\u001b[1;31mValueError\u001b[0m: could not convert string to float: ''"
     ]
    }
   ],
   "source": [
    "i = 1\n",
    "datap = 0\n",
    "press = []\n",
    "Usig = []\n",
    "\n",
    "while datap >= 0:\n",
    "    x = input('mmh2o: ')  \n",
    "    datap = float(x)\n",
    "\n",
    "    if datap >= 0:\n",
    "        press.append(datap)\n",
    "        data=acquire_data(SampleRate, AquisitionTimeInSeconds)\n",
    "        Usig.append(np.mean(data))\n",
    "        # Tsig(i) = np.mean(data[:, 2])  # Uncomment this line if needed\n",
    "\n",
    "    i += 1\n",
    "    if datap < 0:\n",
    "        break\n",
    "    \n",
    "n = i - 1\n",
    "\n"
   ]
  },
  {
   "cell_type": "code",
   "execution_count": null,
   "id": "4f9ed3c6",
   "metadata": {},
   "outputs": [],
   "source": [
    "\n",
    "\n",
    "def compute_exponential_fit(Usig_c, U):\n",
    "    # Define the exponential function\n",
    "    def exponential_func(Usig_c, a, b):\n",
    "        return (Usig_c ** 2 / (b - a)) ** (1 / 0.25)\n",
    "\n",
    "    # Perform curve fitting\n",
    "    popt, pcov = curve_fit(exponential_func, Usig_c, U)\n",
    "\n",
    "    # Extract the computed coefficients a and b\n",
    "    a, b = popt\n",
    "\n",
    "    return a, b"
   ]
  },
  {
   "cell_type": "code",
   "execution_count": null,
   "id": "713986fb",
   "metadata": {},
   "outputs": [],
   "source": [
    "def compute_polynomial_fit(Usig_c, U):\n",
    "    # Define the polynomial function\n",
    "    def polynomial_func(Usig_c, p1, p2, p3, p4, p5):\n",
    "        return p1 * Usig_c**4 + p2 * Usig_c**3 + p3 * Usig_c**2 + p4 * Usig_c + p5\n",
    "\n",
    "    # Perform curve fitting\n",
    "    popt, pcov = curve_fit(polynomial_func, Usig_c, U)\n",
    "\n",
    "    # Extract the computed coefficients p1, p2, p3, p4, and p5\n",
    "    p1, p2, p3, p4, p5 = popt\n",
    "\n",
    "    return p1, p2, p3, p4, p5"
   ]
  },
  {
   "cell_type": "code",
   "execution_count": null,
   "id": "00a4ae60",
   "metadata": {},
   "outputs": [
    {
     "ename": "ValueError",
     "evalue": "`ydata` must not be empty!",
     "output_type": "error",
     "traceback": [
      "\u001b[1;31m---------------------------------------------------------------------------\u001b[0m",
      "\u001b[1;31mValueError\u001b[0m                                Traceback (most recent call last)",
      "Cell \u001b[1;32mIn[71], line 10\u001b[0m\n\u001b[0;32m      6\u001b[0m Usig_c \u001b[39m=\u001b[39m Ec \u001b[39m*\u001b[39m Usig\n\u001b[0;32m      8\u001b[0m U \u001b[39m=\u001b[39m np\u001b[39m.\u001b[39msqrt(\u001b[39m2\u001b[39m \u001b[39m*\u001b[39m rhoH20 \u001b[39m*\u001b[39m g \u001b[39m*\u001b[39m np\u001b[39m.\u001b[39marray(press) \u001b[39m/\u001b[39m \u001b[39m1000\u001b[39m \u001b[39m/\u001b[39m rhoAIR)\n\u001b[1;32m---> 10\u001b[0m a, b \u001b[39m=\u001b[39m compute_exponential_fit(Usig_c, U)\n\u001b[0;32m     11\u001b[0m p1, p2, p3, p4, p5 \u001b[39m=\u001b[39m compute_polynomial_fit(Usig_c, U)\n\u001b[0;32m     14\u001b[0m \u001b[39m#with open(filename, 'w') as file:\u001b[39;00m\n",
      "Cell \u001b[1;32mIn[69], line 7\u001b[0m, in \u001b[0;36mcompute_exponential_fit\u001b[1;34m(Usig_c, U)\u001b[0m\n\u001b[0;32m      4\u001b[0m     \u001b[39mreturn\u001b[39;00m (Usig_c \u001b[39m*\u001b[39m\u001b[39m*\u001b[39m \u001b[39m2\u001b[39m \u001b[39m/\u001b[39m (b \u001b[39m-\u001b[39m a)) \u001b[39m*\u001b[39m\u001b[39m*\u001b[39m (\u001b[39m1\u001b[39m \u001b[39m/\u001b[39m \u001b[39m0.25\u001b[39m)\n\u001b[0;32m      6\u001b[0m \u001b[39m# Perform curve fitting\u001b[39;00m\n\u001b[1;32m----> 7\u001b[0m popt, pcov \u001b[39m=\u001b[39m curve_fit(exponential_func, Usig_c, U)\n\u001b[0;32m      9\u001b[0m \u001b[39m# Extract the computed coefficients a and b\u001b[39;00m\n\u001b[0;32m     10\u001b[0m a, b \u001b[39m=\u001b[39m popt\n",
      "File \u001b[1;32mc:\\Users\\rafae\\anaconda3\\lib\\site-packages\\scipy\\optimize\\_minpack_py.py:820\u001b[0m, in \u001b[0;36mcurve_fit\u001b[1;34m(f, xdata, ydata, p0, sigma, absolute_sigma, check_finite, bounds, method, jac, full_output, **kwargs)\u001b[0m\n\u001b[0;32m    817\u001b[0m         xdata \u001b[39m=\u001b[39m np\u001b[39m.\u001b[39masarray(xdata, \u001b[39mfloat\u001b[39m)\n\u001b[0;32m    819\u001b[0m \u001b[39mif\u001b[39;00m ydata\u001b[39m.\u001b[39msize \u001b[39m==\u001b[39m \u001b[39m0\u001b[39m:\n\u001b[1;32m--> 820\u001b[0m     \u001b[39mraise\u001b[39;00m \u001b[39mValueError\u001b[39;00m(\u001b[39m\"\u001b[39m\u001b[39m`ydata` must not be empty!\u001b[39m\u001b[39m\"\u001b[39m)\n\u001b[0;32m    822\u001b[0m \u001b[39m# Determine type of sigma\u001b[39;00m\n\u001b[0;32m    823\u001b[0m \u001b[39mif\u001b[39;00m sigma \u001b[39mis\u001b[39;00m \u001b[39mnot\u001b[39;00m \u001b[39mNone\u001b[39;00m:\n",
      "\u001b[1;31mValueError\u001b[0m: `ydata` must not be empty!"
     ]
    }
   ],
   "source": [
    "\n",
    "g=9.81\n",
    "rhoH20=998\n",
    "rhoAIR=1.12\n",
    "\n",
    "Ec = 1  # sqrt((Twire-Treff)./(Twire-Temp))\n",
    "Usig_c = Ec * Usig\n",
    "\n",
    "U = np.sqrt(2 * rhoH20 * g * np.array(press) / 1000 / rhoAIR)\n",
    "\n",
    "a, b = compute_exponential_fit(Usig_c, U)\n",
    "p1, p2, p3, p4, p5 = compute_polynomial_fit(Usig_c, U)\n",
    "\n",
    "\n",
    "#with open(filename, 'w') as file:\n",
    "with open(filename, 'wt') as fid:\n",
    "    fid.write('Coefficients kings law\\t')\n",
    "    fid.write('U(x) = (x^2/b-a)^(1/0.25)\\n')\n",
    "    fid.write('a \\t b\\n')\n",
    "    fid.write(f'{a:12.4f} \\t {b:12.4f}\\n')\n",
    "\n",
    "    fid.write('\\nCoefficients poly4\\t')\n",
    "    fid.write('U(x) = p1*x^4 + p2*x^3 + p3*x^2 + p4*x + p5\\n')\n",
    "    fid.write('p1\\t p2\\t p3\\t p4\\t p5\\n')\n",
    "    fid.write(f'{p1:12.4f} \\t {p2:12.4f} \\t {p3:12.4f} \\t {p4:12.4f} \\t {p5:12.4f}\\n')\n",
    "\n",
    "    fid.write('\\nSignal \\t Pressure \\t Velocity\\n')\n",
    "    for i in range(n-1):\n",
    "        fid.write(f'{Usig_c[i]:12.8f} \\t {press[i]:12.8f} \\t {U[i]:12.8f}\\n')\n"
   ]
  },
  {
   "cell_type": "code",
   "execution_count": null,
   "id": "e1d4311f",
   "metadata": {},
   "outputs": [
    {
     "name": "stdout",
     "output_type": "stream",
     "text": [
      "Serial port COM7 is open. Ready to communicate.\n",
      "Response from Arduino: Grbl 1.1f ['$' for help]\n",
      "Response from Arduino: [MSG:'$H'|'$X' to unlock]\n"
     ]
    }
   ],
   "source": [
    "# Create a serial object\n",
    "ser = serial.Serial(port, baud_rate)\n",
    "\n",
    "# Check if the serial port is open\n",
    "if ser.is_open:\n",
    "    print(f\"Serial port {port} is open. Ready to communicate.\")\n",
    "\n",
    "ser.reset_input_buffer()\n",
    "ser.reset_output_buffer()\n",
    "ser.readline()\n",
    "\n",
    "# Read data from Arduino\n",
    "response = ser.readline().decode().strip()  # Read the response from Arduino\n",
    "print(\"Response from Arduino:\", response)\n",
    "\n",
    "# Read data from Arduino\n",
    "response = ser.readline().decode().strip()  # Read the response from Arduino\n",
    "print(\"Response from Arduino:\", response)\n",
    "\n",
    "# Close the serial port\n",
    "#ser.close()\n",
    "\n",
    "# Send a command to Arduino\n",
    "command = '$H\\r\\n'  # Example command\n",
    "ser.write(command.encode())  # Encode the command and send it\n",
    "\n",
    "ser.close()\n"
   ]
  }
 ],
 "metadata": {
  "kernelspec": {
   "display_name": "Python 3 (ipykernel)",
   "language": "python",
   "name": "python3"
  },
  "language_info": {
   "codemirror_mode": {
    "name": "ipython",
    "version": 3
   },
   "file_extension": ".py",
   "mimetype": "text/x-python",
   "name": "python",
   "nbconvert_exporter": "python",
   "pygments_lexer": "ipython3",
   "version": "3.10.11"
  }
 },
 "nbformat": 4,
 "nbformat_minor": 5
}
