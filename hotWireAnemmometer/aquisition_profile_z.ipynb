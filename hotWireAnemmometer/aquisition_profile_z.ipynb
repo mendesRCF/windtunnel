{
 "cells": [
  {
   "attachments": {},
   "cell_type": "markdown",
   "id": "7229fd1d",
   "metadata": {},
   "source": [
    "    HOT WIRE ANEMOMETER AQUISITON Z v.3\n",
    "    LEA - Wind Tunnel\n",
    "    python version\n",
    "\n",
    "Developer: Rafael C. F. Mendes\n",
    "\n",
    "Date: 04/10/2023   (v1: 24/11/2016)\n",
    "\n",
    "Description: Use this program to move hot wire probe and taking data from CTA module.\n",
    "             \n",
    "Hardware: \n",
    "   - Arduino Uno (probe positioning system) with GRBL library (see more at https://github.com/grbl/grbl)\n",
    "   - National Instrument - USB-4332 **Warning: Working voltage -10 to 10V**                 \n",
    "   - Hot wire anemometer - miniCTA DANTEC\n",
    "\n",
    "Before run it, install the following libraries:\n",
    "\n",
    "    - pip install nidaqmx\n",
    "    - pip install pyserial"
   ]
  },
  {
   "cell_type": "code",
   "execution_count": 3,
   "id": "e1ebfda1-f4ce-4af4-b0a7-a5ebf9a8d4ae",
   "metadata": {},
   "outputs": [],
   "source": [
    "#libraries\n",
    "\n",
    "import nidaqmx          \n",
    "import time\n",
    "import numpy as np\n",
    "import serial           \n",
    "from datetime import datetime\n",
    "from nidaqmx.constants import LineGrouping\n",
    "from nidaqmx.constants import Edge\n",
    "from nidaqmx.constants import AcquisitionType \n",
    "import os\n",
    "from scipy.optimize import curve_fit\n"
   ]
  },
  {
   "cell_type": "code",
   "execution_count": 4,
   "id": "76419aa4",
   "metadata": {},
   "outputs": [],
   "source": [
    "#Sampling Definitions \n",
    "SampleRate=1000\n",
    "AquisitionTimeInSeconds=5\n",
    "\n",
    "dz=10 # delta Y in mm\n",
    "y = 310 # y coordinate to measure the profile; y=310 ==> middle \n",
    "\n",
    "# Define the serial port and baud rate\n",
    "port = 'COM7'  # Update with your Arduino's port\n",
    "baud_rate = 115200"
   ]
  },
  {
   "cell_type": "code",
   "execution_count": 17,
   "id": "bf621fcf",
   "metadata": {},
   "outputs": [],
   "source": [
    "#\n",
    "z = np.arange(0, 331, dz)\n",
    "\n",
    "Ysize = 1\n",
    "Zsize = np.shape(z)\n",
    "\n"
   ]
  },
  {
   "cell_type": "code",
   "execution_count": 95,
   "id": "808c29bb",
   "metadata": {},
   "outputs": [],
   "source": [
    "# Function to call NI system \n",
    "\n",
    "def acquire_data(SampleRate, AquisitionTimeInSeconds):\n",
    "    with nidaqmx.Task() as master_task:\n",
    "        Sample=SampleRate*AquisitionTimeInSeconds\n",
    "        master = master_task.ai_channels.add_ai_voltage_chan(\"Dev1/ai0\")\n",
    "        master_task.timing.cfg_samp_clk_timing(SampleRate, source='', active_edge=Edge.RISING, sample_mode=AcquisitionType.CONTINUOUS)\n",
    "        master_task.stop()\n",
    "        master_data = master_task.read(Sample, timeout=AquisitionTimeInSeconds+1.0)\n",
    "    return master_data\n"
   ]
  },
  {
   "cell_type": "code",
   "execution_count": null,
   "id": "992c29a4",
   "metadata": {},
   "outputs": [],
   "source": [
    "# Create a serial object\n",
    "ser = serial.Serial(port, baud_rate)\n",
    "\n",
    "# Check if the serial port is open\n",
    "if ser.is_open:\n",
    "    print(f\"Serial port {port} is open. Ready to communicate.\")\n",
    "\n",
    "ser.reset_input_buffer()\n",
    "ser.reset_output_buffer()\n",
    "ser.readline()\n",
    "\n",
    "# Read data from Arduino\n",
    "response = ser.readline().decode().strip()  # Read the response from Arduino\n",
    "print(\"Response from Arduino:\", response)\n",
    "\n",
    "# Read data from Arduino\n",
    "response = ser.readline().decode().strip()  # Read the response from Arduino\n",
    "print(\"Response from Arduino:\", response)\n",
    "\n",
    "# Close the serial port\n",
    "#ser.close()\n",
    "\n",
    "# Send a command to Arduino\n",
    "command = '$H\\r\\n'  # Example command\n",
    "ser.write(command.encode())  # Encode the command and send it\n",
    "\n"
   ]
  },
  {
   "attachments": {},
   "cell_type": "markdown",
   "id": "747d5315",
   "metadata": {},
   "source": []
  },
  {
   "cell_type": "code",
   "execution_count": 99,
   "id": "68a49654",
   "metadata": {},
   "outputs": [],
   "source": [
    "\n",
    "folder_name = \"Velocity data\"\n",
    "\n",
    "if not os.path.exists(folder_name):\n",
    "    # Create the folder\n",
    "    os.mkdir(folder_name)\n",
    "\n",
    "now = datetime.now()\n",
    "date_string = now.strftime('%d-%b-%Y')\n",
    "time_string = now.strftime('%H-%M-%S')\n",
    "\n",
    "filename = os.path.join(folder_name,f\"{date_string}_{time_string}.txt\")\n"
   ]
  },
  {
   "cell_type": "code",
   "execution_count": null,
   "id": "8e55e9f3",
   "metadata": {},
   "outputs": [],
   "source": [
    "i = 1\n",
    "\n",
    "command = 'z-100\\r\\n'  # Example command\n",
    "ser.write(command.encode())  # Encode the command and send it\n",
    "\n",
    "response = ser.readline().decode().strip()  # Read the response from Arduino\n",
    "print(\"Response from Arduino:\", response)\n",
    "ser.close()\n",
    "\n",
    "fileprint = f\"{y[i]},0\"\n",
    "# Assuming 's' represents a file, open it for writing\n",
    "with open('your_file.txt', 'w') as s:\n",
    "    s.write(fileprint)\n",
    "time.sleep(20)  # Sleep for 20 seconds"
   ]
  },
  {
   "cell_type": "code",
   "execution_count": 29,
   "id": "d18930f6",
   "metadata": {},
   "outputs": [
    {
     "name": "stdout",
     "output_type": "stream",
     "text": [
      "310,10\n"
     ]
    }
   ],
   "source": [
    "i = 1\n",
    "j=1\n",
    "\n",
    "fileprint = f\"{y},{z[j]}\"  # Use y and z directly, no need for indexing\n",
    "print(fileprint)\n",
    "\n",
    "# Introduce a 20-second delay\n",
    "time.sleep(20)  # Pause for 20 seconds\n",
    "\n"
   ]
  },
  {
   "cell_type": "code",
   "execution_count": null,
   "id": "4f9ed3c6",
   "metadata": {},
   "outputs": [],
   "source": [
    "\n"
   ]
  },
  {
   "cell_type": "code",
   "execution_count": null,
   "id": "713986fb",
   "metadata": {},
   "outputs": [],
   "source": []
  },
  {
   "cell_type": "code",
   "execution_count": null,
   "id": "00a4ae60",
   "metadata": {},
   "outputs": [],
   "source": [
    "\n"
   ]
  },
  {
   "cell_type": "code",
   "execution_count": null,
   "id": "e1d4311f",
   "metadata": {},
   "outputs": [
    {
     "name": "stdout",
     "output_type": "stream",
     "text": [
      "Serial port COM7 is open. Ready to communicate.\n",
      "Response from Arduino: Grbl 1.1f ['$' for help]\n",
      "Response from Arduino: [MSG:'$H'|'$X' to unlock]\n"
     ]
    }
   ],
   "source": [
    "\n",
    "\n",
    "for i in range(n):\n",
    "    for j in range(m):\n",
    "        fileprint = f\"{y[i]},{z[j]}\"\n",
    "        # Assuming 's' represents a file, open it for writing\n",
    "        with open('your_file.txt', 'w') as s:\n",
    "            s.write(fileprint)\n",
    "        time.sleep(30)  # Sleep for 30 seconds\n",
    "\n",
    "        folder_name = \"your_folder_name\"\n",
    "        filename = os.path.join(folder_name, f\"{y[i]}x{z[j]}.txt\")\n",
    "\n",
    "        data = Ni_device.startForeground()\n",
    "        in, im = data.shape\n",
    "\n",
    "        with open(filename, 'wt') as fid:\n",
    "            for k in range(in):\n",
    "                fid.write(f'{data[k]:12.8f}\\n')\n",
    "\n",
    "    with open(filename, 'wt') as fid:\n",
    "        data = Ni_device.startForeground()\n",
    "        in, im = data.shape\n",
    "        for k in range(in):\n",
    "            fid.write(f'{data[k]:12.8f}\\n')\n"
   ]
  }
 ],
 "metadata": {
  "kernelspec": {
   "display_name": "Python 3 (ipykernel)",
   "language": "python",
   "name": "python3"
  },
  "language_info": {
   "codemirror_mode": {
    "name": "ipython",
    "version": 3
   },
   "file_extension": ".py",
   "mimetype": "text/x-python",
   "name": "python",
   "nbconvert_exporter": "python",
   "pygments_lexer": "ipython3",
   "version": "3.11.6"
  }
 },
 "nbformat": 4,
 "nbformat_minor": 5
}
