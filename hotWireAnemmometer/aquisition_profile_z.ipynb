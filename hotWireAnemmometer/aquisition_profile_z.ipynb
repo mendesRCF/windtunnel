{
 "cells": [
  {
   "cell_type": "markdown",
   "id": "7229fd1d",
   "metadata": {},
   "source": [
    "    HOT WIRE ANEMOMETER AQUISITON Z v.3\n",
    "    LEA - Wind Tunnel\n",
    "    python version\n",
    "\n",
    "Developer: Rafael C. F. Mendes\n",
    "\n",
    "Date: 04/10/2023   (v1: 24/11/2016)\n",
    "\n",
    "Description: Use this program to move hot wire probe and taking data from CTA module.\n",
    "             \n",
    "Hardware: \n",
    "   - Arduino Uno (probe positioning system) with GRBL library (see more at https://github.com/grbl/grbl)\n",
    "   - National Instrument - USB-4332 **Warning: Working voltage -10 to 10V**                 \n",
    "   - Hot wire anemometer - miniCTA DANTEC\n",
    "\n",
    "Before run it, install the following libraries:\n",
    "\n",
    "    - pip install nidaqmx\n",
    "    - pip install pyserial"
   ]
  },
  {
   "cell_type": "code",
   "execution_count": 46,
   "id": "e1ebfda1-f4ce-4af4-b0a7-a5ebf9a8d4ae",
   "metadata": {
    "tags": []
   },
   "outputs": [],
   "source": [
    "#libraries\n",
    "\n",
    "import nidaqmx          \n",
    "import time\n",
    "import numpy as np\n",
    "import serial           \n",
    "from datetime import datetime\n",
    "from nidaqmx.constants import LineGrouping\n",
    "from nidaqmx.constants import Edge\n",
    "from nidaqmx.constants import AcquisitionType \n",
    "import os\n",
    "from scipy.optimize import curve_fit\n"
   ]
  },
  {
   "cell_type": "code",
   "execution_count": 12,
   "id": "76419aa4",
   "metadata": {
    "tags": []
   },
   "outputs": [],
   "source": [
    "#Sampling Definitions \n",
    "SampleRate=1000\n",
    "AquisitionTimeInSeconds=5\n",
    "\n",
    "dz=10 # delta Y in mm\n",
    "y = [310] # y coordinate to measure the profile; y=310 ==> middle \n",
    "\n",
    "# Define the serial port and baud rate\n",
    "port = 'COM7'  # Update with your Arduino's port\n",
    "baud_rate = 115200"
   ]
  },
  {
   "cell_type": "code",
   "execution_count": 43,
   "id": "bf621fcf",
   "metadata": {
    "tags": []
   },
   "outputs": [],
   "source": [
    "#\n",
    "DetaT = 1 # delay time in seconds\n",
    "\n",
    "z = np.arange(0, 331, dz)\n",
    "\n",
    "Ysize, = np.shape(y)\n",
    "\n",
    "\n",
    "Zsize, = np.shape(z)\n",
    "\n",
    "\n"
   ]
  },
  {
   "cell_type": "code",
   "execution_count": 8,
   "id": "808c29bb",
   "metadata": {
    "tags": []
   },
   "outputs": [],
   "source": [
    "# Function to call NI system \n",
    "\n",
    "def acquire_data(SampleRate, AquisitionTimeInSeconds):\n",
    "    with nidaqmx.Task() as master_task:\n",
    "        Sample=SampleRate*AquisitionTimeInSeconds\n",
    "        master = master_task.ai_channels.add_ai_voltage_chan(\"Dev1/ai0\")\n",
    "        master_task.timing.cfg_samp_clk_timing(SampleRate, source='', active_edge=Edge.RISING, sample_mode=AcquisitionType.CONTINUOUS)\n",
    "        master_task.stop()\n",
    "        master_data = master_task.read(Sample, timeout=AquisitionTimeInSeconds+1.0)\n",
    "    return master_data\n"
   ]
  },
  {
   "cell_type": "code",
   "execution_count": 9,
   "id": "992c29a4",
   "metadata": {
    "tags": []
   },
   "outputs": [
    {
     "ename": "AttributeError",
     "evalue": "module 'serial' has no attribute 'Serial'",
     "output_type": "error",
     "traceback": [
      "\u001b[1;31m---------------------------------------------------------------------------\u001b[0m",
      "\u001b[1;31mAttributeError\u001b[0m                            Traceback (most recent call last)",
      "Cell \u001b[1;32mIn[9], line 2\u001b[0m\n\u001b[0;32m      1\u001b[0m \u001b[38;5;66;03m# Create a serial object\u001b[39;00m\n\u001b[1;32m----> 2\u001b[0m ser \u001b[38;5;241m=\u001b[39m serial\u001b[38;5;241m.\u001b[39mSerial(port, baud_rate)\n\u001b[0;32m      4\u001b[0m \u001b[38;5;66;03m# Check if the serial port is open\u001b[39;00m\n\u001b[0;32m      5\u001b[0m \u001b[38;5;28;01mif\u001b[39;00m ser\u001b[38;5;241m.\u001b[39mis_open:\n",
      "\u001b[1;31mAttributeError\u001b[0m: module 'serial' has no attribute 'Serial'"
     ]
    }
   ],
   "source": [
    "# Create a serial object\n",
    "ser = serial.Serial(port, baud_rate)\n",
    "\n",
    "# Check if the serial port is open\n",
    "if ser.is_open:\n",
    "    print(f\"Serial port {port} is open. Ready to communicate.\")\n",
    "\n",
    "ser.reset_input_buffer()\n",
    "ser.reset_output_buffer()\n",
    "ser.readline()\n",
    "\n",
    "# Read data from Arduino\n",
    "response = ser.readline().decode().strip()  # Read the response from Arduino\n",
    "print(\"Response from Arduino:\", response)\n",
    "\n",
    "# Read data from Arduino\n",
    "response = ser.readline().decode().strip()  # Read the response from Arduino\n",
    "print(\"Response from Arduino:\", response)\n",
    "\n",
    "# Close the serial port\n",
    "#ser.close()\n",
    "\n",
    "# Send a command to Arduino\n",
    "command = '$H\\r\\n'  # Example command\n",
    "ser.write(command.encode())  # Encode the command and send it\n",
    "\n"
   ]
  },
  {
   "cell_type": "code",
   "execution_count": 10,
   "id": "68a49654",
   "metadata": {
    "tags": []
   },
   "outputs": [],
   "source": [
    "\n",
    "folder_name = \"Velocity data\"\n",
    "\n",
    "if not os.path.exists(folder_name):\n",
    "    # Create the folder\n",
    "    os.mkdir(folder_name)\n",
    "\n",
    "now = datetime.now()\n",
    "date_string = now.strftime('%d-%b-%Y')\n",
    "time_string = now.strftime('%H-%M-%S')\n",
    "\n",
    "filename = os.path.join(folder_name,f\"{date_string}_{time_string}.txt\")\n"
   ]
  },
  {
   "cell_type": "code",
   "execution_count": 19,
   "id": "8e55e9f3",
   "metadata": {
    "tags": []
   },
   "outputs": [],
   "source": [
    "i = 0\n",
    "\n",
    "command = f\"y-{y[i]} z-0\" \n",
    "ser.write(command.encode())  # Encode the command and send it\n",
    "response = ser.readline().decode().strip()  # Read the response from Arduino\n",
    "print(\"Response from Arduino:\", response)\n",
    "time.sleep(20)  # Sleep for 20 seconds"
   ]
  },
  {
   "cell_type": "code",
   "execution_count": 45,
   "id": "e1d4311f",
   "metadata": {
    "tags": []
   },
   "outputs": [
    {
     "ename": "NameError",
     "evalue": "name 'ser' is not defined",
     "output_type": "error",
     "traceback": [
      "\u001b[1;31m---------------------------------------------------------------------------\u001b[0m",
      "\u001b[1;31mNameError\u001b[0m                                 Traceback (most recent call last)",
      "Cell \u001b[1;32mIn[45], line 37\u001b[0m\n\u001b[0;32m     35\u001b[0m \u001b[38;5;66;03m# Send a command to Arduino\u001b[39;00m\n\u001b[0;32m     36\u001b[0m command \u001b[38;5;241m=\u001b[39m \u001b[38;5;124m'\u001b[39m\u001b[38;5;124m$H\u001b[39m\u001b[38;5;130;01m\\r\u001b[39;00m\u001b[38;5;130;01m\\n\u001b[39;00m\u001b[38;5;124m'\u001b[39m  \u001b[38;5;66;03m# Example command\u001b[39;00m\n\u001b[1;32m---> 37\u001b[0m ser\u001b[38;5;241m.\u001b[39mwrite(command\u001b[38;5;241m.\u001b[39mencode())  \u001b[38;5;66;03m# Encode the command and send it\u001b[39;00m\n\u001b[0;32m     39\u001b[0m ser\u001b[38;5;241m.\u001b[39mclose()\n",
      "\u001b[1;31mNameError\u001b[0m: name 'ser' is not defined"
     ]
    }
   ],
   "source": [
    "\n",
    "i=0\n",
    "\n",
    "for j in range(Zsize):\n",
    "\n",
    "    command = f\"y-{y[i]} y-{z[j]}\"\n",
    "    ser.write(command.encode())  # Encode the command and send it\n",
    "    response = ser.readline().decode().strip()  # Read the response from Arduino\n",
    "    print(\"Response from Arduino:\", response)\n",
    "        \n",
    "\n",
    "        \n",
    "    filename = os.path.join(folder_name, f\"{y[i]}x{z[j]}.txt\")\n",
    "   \n",
    "\n",
    "    with open(filename, 'w') as s:\n",
    "        s.write(command)\n",
    "    time.sleep(DeltaT)  # Sleep DeltaT\n",
    "    \n",
    "    data=acquire_data(SampleRate, AquisitionTimeInSeconds)\n",
    "\n",
    "    SizeRowData, SizeColunData=np.shape(data)\n",
    "         \n",
    "    with open(filename, 'wt') as fid:\n",
    "        for row in data:\n",
    "            for value in row:\n",
    "                fid.write(f'{value:12.8f} ')\n",
    "            fid.write('\\n')\n",
    "\n",
    "\n",
    "\n",
    "\n",
    "\n",
    "# Send a command to Arduino\n",
    "command = '$H\\r\\n'  # Example command\n",
    "ser.write(command.encode())  # Encode the command and send it\n",
    "\n",
    "ser.close()"
   ]
  },
  {
   "cell_type": "code",
   "execution_count": null,
   "id": "759da7f4-1ffc-47a5-984b-5fa82af855b2",
   "metadata": {
    "tags": []
   },
   "outputs": [],
   "source": []
  },
  {
   "cell_type": "code",
   "execution_count": null,
   "id": "f3f596d8-781d-429c-8456-3602e95092f9",
   "metadata": {},
   "outputs": [],
   "source": []
  }
 ],
 "metadata": {
  "kernelspec": {
   "display_name": "Python 3 (ipykernel)",
   "language": "python",
   "name": "python3"
  },
  "language_info": {
   "codemirror_mode": {
    "name": "ipython",
    "version": 3
   },
   "file_extension": ".py",
   "mimetype": "text/x-python",
   "name": "python",
   "nbconvert_exporter": "python",
   "pygments_lexer": "ipython3",
   "version": "3.11.4"
  }
 },
 "nbformat": 4,
 "nbformat_minor": 5
}
