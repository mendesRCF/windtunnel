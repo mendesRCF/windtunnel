{
 "cells": [
  {
   "cell_type": "markdown",
   "id": "7229fd1d",
   "metadata": {},
   "source": [
    "    HOT WIRE ANEMOMETER AQUISITON Z v.3\n",
    "    LEA - Wind Tunnel\n",
    "    python version\n",
    "\n",
    "Developer: Rafael C. F. Mendes\n",
    "\n",
    "Date: 04/10/2023   (v1: 24/11/2016)\n",
    "\n",
    "Description: Use this program to move hot wire probe and taking data from CTA module.\n",
    "             \n",
    "Hardware: \n",
    "   - Arduino Uno (probe positioning system) with GRBL library (see more at https://github.com/grbl/grbl)\n",
    "   - National Instrument - USB-4332 **Warning: Working voltage -10 to 10V**                 \n",
    "   - Hot wire anemometer - miniCTA DANTEC\n",
    "\n",
    "Before run it, install the following libraries:\n",
    "\n",
    "    - pip install nidaqmx\n",
    "    - pip install pyserial"
   ]
  },
  {
   "cell_type": "markdown",
   "metadata": {},
   "source": []
  },
  {
   "cell_type": "code",
   "execution_count": 1,
   "id": "e1ebfda1-f4ce-4af4-b0a7-a5ebf9a8d4ae",
   "metadata": {
    "tags": []
   },
   "outputs": [],
   "source": [
    "#libraries\n",
    "\n",
    "import nidaqmx          \n",
    "import time\n",
    "import numpy as np\n",
    "import serial           \n",
    "from datetime import datetime\n",
    "from nidaqmx.constants import LineGrouping\n",
    "from nidaqmx.constants import Edge\n",
    "from nidaqmx.constants import AcquisitionType \n",
    "import os\n",
    "from scipy.optimize import curve_fit\n"
   ]
  },
  {
   "cell_type": "code",
   "execution_count": 2,
   "id": "76419aa4",
   "metadata": {
    "tags": []
   },
   "outputs": [],
   "source": [
    "# Configure your experiment here!\n",
    "# Configure o seu experimento aqui!\n",
    "\n",
    "#Sampling Definitions \n",
    "SampleRate=1000\n",
    "AquisitionTimeInSeconds=5\n",
    "\n",
    "\n",
    "y = [310] # y coordinate to measure the profile; y=310 ==> middle \n",
    "x = [1000]\n",
    "\n",
    "\n",
    "dz=10 # delta Y in mm\n",
    "\n",
    "# Delay between the points\n",
    "DeltaT = 1 # delay time in seconds\n",
    "\n",
    "# Define the serial port and baud rate\n",
    "port = 'COM3'  # Update with your Arduino's port\n",
    "baud_rate = 115200"
   ]
  },
  {
   "cell_type": "code",
   "execution_count": 3,
   "id": "bf621fcf",
   "metadata": {
    "tags": []
   },
   "outputs": [],
   "source": [
    "# Create coordinates vectors\n",
    "z = np.arange(20, 351, dz)\n",
    "Ysize, = np.shape(y)\n",
    "Zsize, = np.shape(z)\n",
    "\n"
   ]
  },
  {
   "cell_type": "code",
   "execution_count": 4,
   "id": "808c29bb",
   "metadata": {
    "tags": []
   },
   "outputs": [],
   "source": [
    "# Function to call NI system \n",
    "\n",
    "def acquire_data(SampleRate, AquisitionTimeInSeconds):\n",
    "    with nidaqmx.Task() as master_task:\n",
    "        Sample=SampleRate*AquisitionTimeInSeconds\n",
    "        master = master_task.ai_channels.add_ai_voltage_chan(\"Dev1/ai0\")\n",
    "        master_task.timing.cfg_samp_clk_timing(SampleRate, source='', active_edge=Edge.RISING, sample_mode=AcquisitionType.CONTINUOUS)\n",
    "        master_task.stop()\n",
    "        master_data = master_task.read(Sample, timeout=AquisitionTimeInSeconds+1.0)\n",
    "    return master_data\n"
   ]
  },
  {
   "cell_type": "code",
   "execution_count": 5,
   "id": "992c29a4",
   "metadata": {
    "tags": []
   },
   "outputs": [
    {
     "name": "stdout",
     "output_type": "stream",
     "text": [
      "Serial port COM3 is open. Ready to communicate.\n"
     ]
    },
    {
     "name": "stdout",
     "output_type": "stream",
     "text": [
      "Response from Arduino: Grbl 1.1f ['$' for help]\n",
      "Response from Arduino: [MSG:'$H'|'$X' to unlock]\n"
     ]
    },
    {
     "data": {
      "text/plain": [
       "4"
      ]
     },
     "execution_count": 5,
     "metadata": {},
     "output_type": "execute_result"
    }
   ],
   "source": [
    "# Create a serial object\n",
    "ser = serial.Serial(port, baud_rate)\n",
    "\n",
    "# Check if the serial port is open\n",
    "if ser.is_open:\n",
    "    print(f\"Serial port {port} is open. Ready to communicate.\")\n",
    "\n",
    "ser.reset_input_buffer()\n",
    "ser.reset_output_buffer()\n",
    "ser.readline()\n",
    "\n",
    "# Read data from Arduino\n",
    "response = ser.readline().decode().strip()  # Read the response from Arduino\n",
    "print(\"Response from Arduino:\", response)\n",
    "\n",
    "# Read data from Arduino\n",
    "response = ser.readline().decode().strip()  # Read the response from Arduino\n",
    "print(\"Response from Arduino:\", response)\n",
    "\n",
    "# Close the serial port\n",
    "#ser.close()\n",
    "\n",
    "# Send a command to Arduino\n",
    "command = '$H\\r\\n'  # Example command\n",
    "ser.write(command.encode())  # Encode the command and send it\n",
    "\n"
   ]
  },
  {
   "cell_type": "code",
   "execution_count": 6,
   "id": "68a49654",
   "metadata": {
    "tags": []
   },
   "outputs": [],
   "source": [
    "\n",
    "folder_name = \"Velocity data\"\n",
    "\n",
    "if not os.path.exists(folder_name):\n",
    "    # Create the folder\n",
    "    os.mkdir(folder_name)\n",
    "\n",
    "now = datetime.now()\n",
    "date_string = now.strftime('%d-%b-%Y')\n",
    "time_string = now.strftime('%H-%M-%S')\n",
    "\n",
    "folder_name = os.path.join(folder_name,f\"{date_string}_{time_string}\")\n",
    "os.mkdir(folder_name)\n"
   ]
  },
  {
   "cell_type": "code",
   "execution_count": 7,
   "id": "8e55e9f3",
   "metadata": {
    "tags": []
   },
   "outputs": [
    {
     "name": "stdout",
     "output_type": "stream",
     "text": [
      "y-310 z-0 \n",
      "\n"
     ]
    },
    {
     "name": "stdout",
     "output_type": "stream",
     "text": [
      "Response from Arduino: ok\n"
     ]
    }
   ],
   "source": [
    "i = 0\n",
    "\n",
    "command = f\"y-{y[i]} z-0 \\r\\n\" \n",
    "print(command)\n",
    "ser.write(command.encode())  # Encode the command and send it\n",
    "response = ser.readline().decode().strip()  # Read the response from Arduino\n",
    "print(\"Response from Arduino:\", response)\n",
    "time.sleep(20)  # Sleep for 20 seconds"
   ]
  },
  {
   "cell_type": "code",
   "execution_count": 8,
   "id": "e1d4311f",
   "metadata": {
    "tags": []
   },
   "outputs": [
    {
     "name": "stdout",
     "output_type": "stream",
     "text": [
      "y-310\n",
      "\n",
      "Response from Arduino: ok\n",
      "x-1000\n",
      "\n",
      "Response from Arduino: ok\n",
      "z-20\n",
      "\n",
      "Response from Arduino: ok\n",
      "z-30\n",
      "\n",
      "Response from Arduino: ok\n",
      "z-40\n",
      "\n",
      "Response from Arduino: ok\n",
      "z-50\n",
      "\n",
      "Response from Arduino: ok\n",
      "z-60\n",
      "\n",
      "Response from Arduino: ok\n",
      "z-70\n",
      "\n",
      "Response from Arduino: ok\n",
      "z-80\n",
      "\n",
      "Response from Arduino: ok\n",
      "z-90\n",
      "\n",
      "Response from Arduino: ok\n",
      "z-100\n",
      "\n",
      "Response from Arduino: ok\n",
      "z-110\n",
      "\n",
      "Response from Arduino: ok\n",
      "z-120\n",
      "\n",
      "Response from Arduino: ok\n",
      "z-130\n",
      "\n",
      "Response from Arduino: ok\n",
      "z-140\n",
      "\n",
      "Response from Arduino: ok\n",
      "z-150\n",
      "\n",
      "Response from Arduino: ok\n",
      "z-160\n",
      "\n",
      "Response from Arduino: ok\n",
      "z-170\n",
      "\n",
      "Response from Arduino: ok\n",
      "z-180\n",
      "\n",
      "Response from Arduino: ok\n",
      "z-190\n",
      "\n",
      "Response from Arduino: ok\n",
      "z-200\n",
      "\n",
      "Response from Arduino: ok\n",
      "z-210\n",
      "\n",
      "Response from Arduino: ok\n",
      "z-220\n",
      "\n",
      "Response from Arduino: ok\n",
      "z-230\n",
      "\n",
      "Response from Arduino: ok\n",
      "z-240\n",
      "\n",
      "Response from Arduino: ok\n",
      "z-250\n",
      "\n",
      "Response from Arduino: ok\n",
      "z-260\n",
      "\n",
      "Response from Arduino: ok\n",
      "z-270\n",
      "\n",
      "Response from Arduino: ok\n",
      "z-280\n",
      "\n",
      "Response from Arduino: ok\n",
      "z-290\n",
      "\n",
      "Response from Arduino: ok\n",
      "z-300\n",
      "\n",
      "Response from Arduino: ok\n",
      "z-310\n",
      "\n",
      "Response from Arduino: ok\n",
      "z-320\n",
      "\n",
      "Response from Arduino: ok\n",
      "z-330\n",
      "\n",
      "Response from Arduino: ok\n",
      "z-340\n",
      "\n",
      "Response from Arduino: ok\n",
      "z-350\n",
      "\n",
      "Response from Arduino: ok\n"
     ]
    }
   ],
   "source": [
    "i=0\n",
    "command = f\"y-{y[0]}\\r\\n\"\n",
    "ser.write(command.encode())\n",
    "print(command)\n",
    "response = ser.readline().decode().strip()  # Read the response from Arduino\n",
    "print(\"Response from Arduino:\", response)\n",
    "time.sleep(DeltaT)  # Sleep DeltaT\n",
    "\n",
    "command = f\"x-{x[0]}\\r\\n\"\n",
    "\n",
    "ser.write(command.encode())\n",
    "print(command)\n",
    "response = ser.readline().decode().strip()  # Read the response from Arduino\n",
    "print(\"Response from Arduino:\", response)\n",
    "time.sleep(DeltaT)  # Sleep DeltaT\n",
    "\n",
    "for j in range(Zsize):\n",
    "\n",
    "    command = f\"z-{z[j]}\\r\\n\"\n",
    "   # ser.write(command.encode())  # Encode the command and send it\n",
    "   # response = ser.readline().decode().strip()  # Read the response from Arduino\n",
    "   # print(\"Response from Arduino:\", response)\n",
    "   # ser.write(command.encode())  # Encode the command and send it\n",
    "   # response = ser.readline().decode().strip()  # Read the response from Arduino\n",
    "   # print(\"Response from Arduino:\", response)    \n",
    "\n",
    "        \n",
    "    filename = os.path.join(folder_name, f\"{x[i]}x{y[i]}x{z[j]}.txt\")\n",
    "\n",
    "\n",
    "\n",
    "    with open(filename, 'w') as s:\n",
    "       \n",
    "        print(command)\n",
    "        ser.write(command.encode())  # Encode the command and send it\n",
    "        response = ser.readline().decode().strip()  # Read the response from Arduino\n",
    "        print(\"Response from Arduino:\", response)    \n",
    "    time.sleep(DeltaT)  # Sleep DeltaT\n",
    "    \n",
    "    data=acquire_data(SampleRate, AquisitionTimeInSeconds)\n",
    "\n",
    "    data_array = np.array(data)\n",
    "\n",
    "   # SizeRowData, SizeColunData=np.shape(data)\n",
    "\n",
    "    SizeRowData, = data_array.shape  # Note the comma after SizeRowData\n",
    "         \n",
    "\n",
    "\n",
    "    with open(filename, 'wt') as fid:\n",
    "        for value in data:\n",
    "            fid.write(f'{value:12.8f}\\n')\n",
    "\n",
    "\n",
    "\n",
    "\n",
    "\n",
    "# Send a command to Arduino\n",
    "command = '$H\\r\\n'  # Example command\n",
    "ser.write(command.encode())  # Encode the command and send it\n",
    "\n",
    "ser.close()"
   ]
  },
  {
   "cell_type": "code",
   "execution_count": null,
   "id": "f3f596d8-781d-429c-8456-3602e95092f9",
   "metadata": {},
   "outputs": [],
   "source": []
  }
 ],
 "metadata": {
  "kernelspec": {
   "display_name": "Python 3 (ipykernel)",
   "language": "python",
   "name": "python3"
  },
  "language_info": {
   "codemirror_mode": {
    "name": "ipython",
    "version": 3
   },
   "file_extension": ".py",
   "mimetype": "text/x-python",
   "name": "python",
   "nbconvert_exporter": "python",
   "pygments_lexer": "ipython3",
   "version": "3.12.0"
  }
 },
 "nbformat": 4,
 "nbformat_minor": 5
}
